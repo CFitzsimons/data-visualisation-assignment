{
 "cells": [
  {
   "cell_type": "code",
   "execution_count": null,
   "metadata": {},
   "outputs": [
    {
     "name": "stdout",
     "output_type": "stream",
     "text": [
      "<class 'pandas.core.frame.DataFrame'>\n",
      "Index: 211 entries, 4 to 989\n",
      "Data columns (total 24 columns):\n",
      " #   Column                          Non-Null Count  Dtype  \n",
      "---  ------                          --------------  -----  \n",
      " 0   recommendationid                211 non-null    int64  \n",
      " 1   appid                           211 non-null    int64  \n",
      " 2   game                            211 non-null    object \n",
      " 3   author_steamid                  211 non-null    int64  \n",
      " 4   author_num_games_owned          211 non-null    int64  \n",
      " 5   author_num_reviews              211 non-null    int64  \n",
      " 6   author_playtime_forever         211 non-null    int64  \n",
      " 7   author_playtime_last_two_weeks  211 non-null    int64  \n",
      " 8   author_playtime_at_review       211 non-null    int64  \n",
      " 9   author_last_played              211 non-null    int64  \n",
      " 10  language                        211 non-null    object \n",
      " 11  review                          211 non-null    object \n",
      " 12  timestamp_created               211 non-null    int64  \n",
      " 13  timestamp_updated               211 non-null    int64  \n",
      " 14  voted_up                        211 non-null    int64  \n",
      " 15  votes_up                        211 non-null    int64  \n",
      " 16  votes_funny                     211 non-null    int64  \n",
      " 17  weighted_vote_score             211 non-null    float64\n",
      " 18  comment_count                   211 non-null    int64  \n",
      " 19  steam_purchase                  211 non-null    int64  \n",
      " 20  received_for_free               211 non-null    int64  \n",
      " 21  written_during_early_access     211 non-null    int64  \n",
      " 22  hidden_in_steam_china           211 non-null    int64  \n",
      " 23  steam_china_location            0 non-null      float64\n",
      "dtypes: float64(2), int64(19), object(3)\n",
      "memory usage: 41.2+ KB\n"
     ]
    }
   ],
   "source": [
    "import pandas as pd\n",
    "df = pd.DataFrame()\n",
    "for chunk in pd.read_csv('../../data/reviews.csv', chunksize=1000):\n",
    "    df = chunk # Just nab the first chunk to play with\n",
    "    break\n",
    "df.head()\n",
    "df.info()"
   ]
  },
  {
   "cell_type": "markdown",
   "metadata": {},
   "source": [
    "Tasks ahead:\n",
    "\n",
    "1. Remove any empty reviews\n",
    "2. Remove any non-English reviews\n",
    "3. Parse dates to correct format"
   ]
  },
  {
   "cell_type": "code",
   "execution_count": null,
   "metadata": {},
   "outputs": [],
   "source": [
    "# Dates\n",
    "df.timestamp_created = pd.to_datetime(df.timestamp_created, unit='s')\n",
    "df.timestamp_updated = pd.to_datetime(df.timestamp_updated, unit='s')\n",
    "\n",
    "# Language\n",
    "df.drop(df[(df.language != 'english')].index, inplace=True)\n",
    "\n",
    "## Empty Reviews\n",
    "df.drop(df[(df.review != \"\")].index, inplace=True)"
   ]
  }
 ],
 "metadata": {
  "kernelspec": {
   "display_name": "Python 3",
   "language": "python",
   "name": "python3"
  },
  "language_info": {
   "codemirror_mode": {
    "name": "ipython",
    "version": 3
   },
   "file_extension": ".py",
   "mimetype": "text/x-python",
   "name": "python",
   "nbconvert_exporter": "python",
   "pygments_lexer": "ipython3",
   "version": "3.10.0"
  }
 },
 "nbformat": 4,
 "nbformat_minor": 2
}
